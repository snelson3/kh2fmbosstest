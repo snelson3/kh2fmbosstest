{
 "cells": [
  {
   "cell_type": "code",
   "execution_count": 1,
   "metadata": {
    "scrolled": true
   },
   "outputs": [
    {
     "name": "stdout",
     "output_type": "stream",
     "text": [
      "Replacing Hades (Goddess of Fate Cup/Hades Paradox Cup) (Boss) with Pete (Past) (Boss)\n",
      "Hold R2 During transition to spawn at Hades (Goddess of Fate Cup/Hades Paradox Cup) (Boss) fight in Underdome Colosseum\n"
     ]
    }
   ],
   "source": [
    "from kh2lib import CodeGen\n",
    "import os\n",
    "\n",
    "\n",
    "cg = CodeGen(out_fn=os.path.join(\"cheats\",\"F266B00B.pnach\"))\n",
    "\n",
    "## Uncomment these and start a new game to get a file ready with ease\n",
    "#cg.apply_all_abilities()\n",
    "#cg.apply_all_forms()\n",
    "#cg.apply_all_items()\n",
    "\n",
    "# Run this if you are bad like me\n",
    "#cg.apply_inf_hp()\n",
    "\n",
    "# Replace these numbers with the id of the original boss and the new boss\n",
    "ORIGINAL_BOSS = 41\n",
    "NEW_BOSS      = 54\n",
    "cg.replace_boss(ORIGINAL_BOSS, NEW_BOSS)\n",
    "\n",
    "cg.write_pnach(debug=False)"
   ]
  }
 ],
 "metadata": {
  "kernelspec": {
   "display_name": "Python 3",
   "language": "python",
   "name": "python3"
  },
  "language_info": {
   "codemirror_mode": {
    "name": "ipython",
    "version": 3
   },
   "file_extension": ".py",
   "mimetype": "text/x-python",
   "name": "python",
   "nbconvert_exporter": "python",
   "pygments_lexer": "ipython3",
   "version": "3.7.0"
  }
 },
 "nbformat": 4,
 "nbformat_minor": 2
}
