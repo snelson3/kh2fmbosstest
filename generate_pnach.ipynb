{
 "cells": [
  {
   "cell_type": "code",
   "execution_count": 130,
   "metadata": {
    "scrolled": true
   },
   "outputs": [
    {
     "name": "stdout",
     "output_type": "stream",
     "text": [
      "Replacing Roxas (Boss) with Vivi no struggle\n"
     ]
    }
   ],
   "source": [
    "from kh2lib import CodeGen\n",
    "import os\n",
    "\n",
    "\n",
    "cg = CodeGen(out_fn=os.path.join(\"cheats\",\"F266B00B.pnach\"))\n",
    "#cg.apply_all_abilities()\n",
    "#cg.apply_all_forms()\n",
    "#cg.apply_all_items()\n",
    "#cg.apply_inf_hp()\n",
    "cg.replace_boss(10,20)\n",
    "#cg.apply_loc_code(\"test\", 14, 89)\n",
    "cg.write_pnach(debug=False)"
   ]
  },
  {
   "cell_type": "code",
   "execution_count": 2,
   "metadata": {},
   "outputs": [
    {
     "data": {
      "text/plain": [
       "'D2'"
      ]
     },
     "execution_count": 2,
     "metadata": {},
     "output_type": "execute_result"
    }
   ],
   "source": [
    "b = 0xD0\n",
    "b += 2\n",
    "b\n",
    "toHex = lambda b: hex(b)[2:].zfill(2).upper()\n",
    "toHex(b)"
   ]
  },
  {
   "cell_type": "code",
   "execution_count": null,
   "metadata": {},
   "outputs": [],
   "source": []
  }
 ],
 "metadata": {
  "kernelspec": {
   "display_name": "Python 3",
   "language": "python",
   "name": "python3"
  },
  "language_info": {
   "codemirror_mode": {
    "name": "ipython",
    "version": 3
   },
   "file_extension": ".py",
   "mimetype": "text/x-python",
   "name": "python",
   "nbconvert_exporter": "python",
   "pygments_lexer": "ipython3",
   "version": "3.7.0"
  }
 },
 "nbformat": 4,
 "nbformat_minor": 2
}
