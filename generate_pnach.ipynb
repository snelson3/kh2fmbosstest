{
 "cells": [
  {
   "cell_type": "code",
   "execution_count": null,
   "metadata": {
    "scrolled": true
   },
   "outputs": [],
   "source": [
    "from kh2lib import CodeGen\n",
    "import os\n",
    "\n",
    "\n",
    "cg = CodeGen(out_fn=os.path.join(\"cheats\",\"F266B00B.pnach\"))\n",
    "\n",
    "## Uncomment these and start a new game to get a file ready with ease\n",
    "#cg.apply_all_abilities()\n",
    "#cg.apply_all_forms()\n",
    "#cg.apply_all_items()\n",
    "\n",
    "# Run this if you are bad like me\n",
    "#cg.apply_inf_hp()\n",
    "\n",
    "# Uncomment to have roxas able to do RC commands\n",
    "#cg.apply_roxas_rc_code()\n",
    "\n",
    "# Replace these numbers with the id of the original boss and the new boss\n",
    "ORIGINAL_BOSS = 10\n",
    "NEW_BOSS      = 11\n",
    "cg.replace_boss(ORIGINAL_BOSS, NEW_BOSS)\n",
    "\n",
    "cg.write_pnach(debug=False)"
   ]
  },
  {
   "cell_type": "code",
   "execution_count": null,
   "metadata": {},
   "outputs": [],
   "source": []
  },
  {
   "cell_type": "code",
   "execution_count": null,
   "metadata": {},
   "outputs": [],
   "source": []
  }
 ],
 "metadata": {
  "kernelspec": {
   "display_name": "Python 3",
   "language": "python",
   "name": "python3"
  },
  "language_info": {
   "codemirror_mode": {
    "name": "ipython",
    "version": 3
   },
   "file_extension": ".py",
   "mimetype": "text/x-python",
   "name": "python",
   "nbconvert_exporter": "python",
   "pygments_lexer": "ipython3",
   "version": "3.7.0"
  }
 },
 "nbformat": 4,
 "nbformat_minor": 2
}
